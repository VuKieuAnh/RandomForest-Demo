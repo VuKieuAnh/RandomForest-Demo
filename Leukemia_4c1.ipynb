{
 "cells": [
  {
   "cell_type": "code",
   "execution_count": 1,
   "id": "f3a7c18b",
   "metadata": {},
   "outputs": [],
   "source": [
    "import pandas as pd\n",
    "from sklearn.tree import DecisionTreeClassifier # Import Decision Tree Classifier\n",
    "from sklearn.model_selection import train_test_split # Import train_test_split function\n",
    "from sklearn.svm import SVC     ### SVM for classification\n",
    "from sklearn.neighbors import KNeighborsClassifier\n",
    "from sklearn.ensemble import AdaBoostClassifier\n",
    "from sklearn.linear_model import LogisticRegression\n",
    "\n",
    "from sklearn import metrics #Import scikit-learn metrics module for accuracy calculation\n",
    "from sklearn.ensemble import RandomForestClassifier \n",
    "from sklearn.ensemble import BaggingClassifier\n",
    "from sklearn.ensemble import StackingClassifier\n",
    "\n",
    "import random\n",
    "import numpy as np\n",
    "import math\n",
    "from collections import Counter\n",
    "from sklearn.preprocessing import OrdinalEncoder\n",
    "from sklearn.preprocessing import LabelEncoder\n",
    "import matplotlib.pyplot as plt\n",
    "from sklearn import tree\n",
    "import graphviz "
   ]
  },
  {
   "cell_type": "code",
   "execution_count": 2,
   "id": "5ba4d418",
   "metadata": {},
   "outputs": [],
   "source": [
    "from sklearn.tree import export_text\n",
    "\n",
    "from IPython.display import Image  \n",
    "from sklearn.tree import export_graphviz\n",
    "from sklearn.naive_bayes import GaussianNB\n",
    "from sklearn.naive_bayes import MultinomialNB, BernoulliNB\n",
    "from sklearn.svm import SVC\n",
    "from datetime import datetime"
   ]
  },
  {
   "cell_type": "code",
   "execution_count": 3,
   "id": "0b034376",
   "metadata": {},
   "outputs": [],
   "source": [
    "def indexOf(arr, e):\n",
    "    for i in arr:\n",
    "        if (e==i):\n",
    "            return arr.index(e)\n",
    "    return -1; "
   ]
  },
  {
   "cell_type": "code",
   "execution_count": 4,
   "id": "24082865",
   "metadata": {},
   "outputs": [],
   "source": [
    "def getRandomByPercent(percent, total):\n",
    "    rArr = [0]\n",
    "    length= int(percent/100*total)\n",
    "    for num in range(1, length):\n",
    "        ri = random.randint(0,total-1)\n",
    "        if (indexOf(rArr, ri)<0):\n",
    "            rArr.append(ri)\n",
    "    return rArr"
   ]
  },
  {
   "cell_type": "code",
   "execution_count": 5,
   "id": "0332f940",
   "metadata": {},
   "outputs": [],
   "source": [
    "def comparative(df1, percent):\n",
    "    Y = df1[['class']]\n",
    "    X = df1.iloc[:,df1.columns !='class']\n",
    "    r,c = df1.shape\n",
    "    acc_RF = list()\n",
    "    time_RF =list()\n",
    "    if (percent>0 and percent <100):\n",
    "        print (percent)\n",
    "        for j in range(20):\n",
    "            df=df1.iloc[:,getRandomByPercent(percent,c)]\n",
    "            for i in range(20):\n",
    "#         print (\"Chay Lan thu: \", i)\n",
    "# split data\n",
    "                X_Train, X_Test, Y_Train, Y_Test = train_test_split(X, Y,  stratify=Y, train_size=0.7)        \n",
    "#random forest\n",
    "                start = datetime.now()\n",
    "\n",
    "                rf_model = RandomForestClassifier(n_estimators=100, max_features= int(math.sqrt(c))+1)\n",
    "                rf_model.fit(X_Train,Y_Train.values.ravel())\n",
    "                pred_y = rf_model.predict(X_Test)\n",
    "           \n",
    "                end = datetime.now() -start\n",
    "                time_RF.append(end)\n",
    "                \n",
    "                accRF = metrics.accuracy_score(Y_Test, pred_y)\n",
    "                acc_RF.append(accRF)\n",
    "#         print (\"Độ chính xác RF: \",accRF) \n",
    "    \n",
    "    else:\n",
    "        df=df1\n",
    "        for i in range(20):\n",
    "#         print (\"Chay Lan thu: \", i)\n",
    "# split data\n",
    "                X_Train, X_Test, Y_Train, Y_Test = train_test_split(X, Y,  stratify=Y, train_size=0.7)        \n",
    "#random forest\n",
    "                start = datetime.now()\n",
    "\n",
    "                rf_model = RandomForestClassifier(n_estimators=100, max_features= int(math.sqrt(c))+1)\n",
    "                rf_model.fit(X_Train,Y_Train.values.ravel())\n",
    "                pred_y = rf_model.predict(X_Test)\n",
    "           \n",
    "                end = datetime.now() -start\n",
    "                time_RF.append(end)\n",
    "                \n",
    "                accRF = metrics.accuracy_score(Y_Test, pred_y)\n",
    "                acc_RF.append(accRF)\n",
    "#         print (\"Độ chính xác RF: \",accRF) \n",
    "    results =[]\n",
    "    results.append(acc_RF)\n",
    "\n",
    "    print (\"Gia tri trung binh\")\n",
    "    print (np.mean(acc_RF))    ## gia tri trung binh  \n",
    "    print (\"Do lech chuan\")\n",
    "    print (np.std(acc_RF))     ## Do lech chuan   \n",
    "  \n",
    "    "
   ]
  },
  {
   "cell_type": "code",
   "execution_count": 6,
   "id": "daa6c629",
   "metadata": {},
   "outputs": [],
   "source": [
    "def load_data(df,percent):\n",
    "#     x=2\n",
    " \n",
    "    comparative(df, percent)\n",
    "    print (\"-----------\")"
   ]
  },
  {
   "cell_type": "code",
   "execution_count": 7,
   "id": "5c633473",
   "metadata": {},
   "outputs": [
    {
     "name": "stdout",
     "output_type": "stream",
     "text": [
      "5\n",
      "Gia tri trung binh\n",
      "0.8490909090909091\n",
      "Do lech chuan\n",
      "0.0521757994628427\n",
      "-----------\n",
      "10\n",
      "Gia tri trung binh\n",
      "0.8490909090909091\n",
      "Do lech chuan\n",
      "0.05097398461409521\n",
      "-----------\n",
      "20\n",
      "Gia tri trung binh\n",
      "0.8489772727272726\n",
      "Do lech chuan\n",
      "0.051093289939673124\n",
      "-----------\n",
      "Gia tri trung binh\n",
      "0.85\n",
      "Do lech chuan\n",
      "0.04568125282327676\n",
      "-----------\n"
     ]
    }
   ],
   "source": [
    "def main():\n",
    "    x=1\n",
    "    #Breast2classes\n",
    "    df = pd.read_csv('data/Leukemia_4c1.csv', header = 0) \n",
    "#     r,c = df.shape\n",
    "    df.columns.values[0] = \"class\"\n",
    "    load_data(df,5)\n",
    "    \n",
    "    load_data(df,10)\n",
    "    \n",
    "    load_data(df,20)\n",
    "    \n",
    "    load_data(df,100)\n",
    "    \n",
    "    \n",
    "if __name__ ==\"__main__\":\n",
    "    main()"
   ]
  },
  {
   "cell_type": "code",
   "execution_count": null,
   "id": "09cc7584",
   "metadata": {},
   "outputs": [],
   "source": []
  }
 ],
 "metadata": {
  "kernelspec": {
   "display_name": "Python 3 (ipykernel)",
   "language": "python",
   "name": "python3"
  },
  "language_info": {
   "codemirror_mode": {
    "name": "ipython",
    "version": 3
   },
   "file_extension": ".py",
   "mimetype": "text/x-python",
   "name": "python",
   "nbconvert_exporter": "python",
   "pygments_lexer": "ipython3",
   "version": "3.9.13"
  }
 },
 "nbformat": 4,
 "nbformat_minor": 5
}
