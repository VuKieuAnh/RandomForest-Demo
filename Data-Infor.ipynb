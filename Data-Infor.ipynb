{
 "cells": [
  {
   "cell_type": "code",
   "execution_count": 1,
   "id": "7cf00270",
   "metadata": {},
   "outputs": [],
   "source": [
    "import pandas as pd"
   ]
  },
  {
   "cell_type": "code",
   "execution_count": 19,
   "id": "7342d026",
   "metadata": {},
   "outputs": [],
   "source": [
    "def getShape(dfName):\n",
    "    for i in dfName:\n",
    "        df = pd.read_csv('data/'+i, header = 0) \n",
    "        print(i, \" \", df.shape)"
   ]
  },
  {
   "cell_type": "code",
   "execution_count": 22,
   "id": "c1f919f1",
   "metadata": {},
   "outputs": [],
   "source": [
    "dfName=['adenocarcinoma.csv','Brain.csv', 'Breast3classes.csv', 'CNS1.csv', 'colon1.csv',\n",
    "       'DLBCL.csv','Leukemia_3c1.csv', 'Leukemia_4c1.csv', 'Lung_cancer.csv', 'Lymphoma.csv',\n",
    "       'NCI.csv', 'Prostate.csv', 'SRBCT_txt.csv', 'Tumors9.csv']"
   ]
  },
  {
   "cell_type": "code",
   "execution_count": 23,
   "id": "4691a884",
   "metadata": {},
   "outputs": [
    {
     "name": "stdout",
     "output_type": "stream",
     "text": [
      "adenocarcinoma.csv   (76, 9869)\n",
      "Brain.csv   (42, 5598)\n",
      "Breast3classes.csv   (95, 4870)\n",
      "CNS1.csv   (60, 7130)\n",
      "colon1.csv   (62, 2001)\n",
      "DLBCL.csv   (77, 5470)\n",
      "Leukemia_3c1.csv   (72, 7130)\n",
      "Leukemia_4c1.csv   (72, 7130)\n",
      "Lung_cancer.csv   (203, 12601)\n",
      "Lymphoma.csv   (62, 4027)\n",
      "NCI.csv   (61, 5245)\n",
      "Prostate.csv   (102, 6034)\n",
      "SRBCT_txt.csv   (63, 2309)\n",
      "Tumors9.csv   (60, 5727)\n"
     ]
    }
   ],
   "source": [
    "getShape(dfName)"
   ]
  },
  {
   "cell_type": "code",
   "execution_count": null,
   "id": "0c65bcbc",
   "metadata": {},
   "outputs": [],
   "source": []
  }
 ],
 "metadata": {
  "kernelspec": {
   "display_name": "Python 3 (ipykernel)",
   "language": "python",
   "name": "python3"
  },
  "language_info": {
   "codemirror_mode": {
    "name": "ipython",
    "version": 3
   },
   "file_extension": ".py",
   "mimetype": "text/x-python",
   "name": "python",
   "nbconvert_exporter": "python",
   "pygments_lexer": "ipython3",
   "version": "3.9.13"
  }
 },
 "nbformat": 4,
 "nbformat_minor": 5
}
